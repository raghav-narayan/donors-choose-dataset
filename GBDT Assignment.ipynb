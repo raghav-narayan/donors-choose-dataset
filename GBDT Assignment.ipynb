{
 "cells": [
  {
   "cell_type": "markdown",
   "metadata": {
    "colab_type": "text",
    "id": "8wqapAXjsc24"
   },
   "source": [
    "# Assignment 9: GBDT"
   ]
  },
  {
   "cell_type": "markdown",
   "metadata": {
    "colab_type": "text",
    "id": "8u5NhbnEsc2-"
   },
   "source": [
    "#### Response Coding: Example"
   ]
  },
  {
   "cell_type": "markdown",
   "metadata": {
    "colab_type": "text",
    "id": "HIFWmwHKsc3A"
   },
   "source": [
    "<img src='http://i.imgur.com/TufZptV.jpg' width=700px>\n",
    "\n",
    "> The response tabel is built only on train dataset.\n",
    "> For a category which is not there in train data and present in test data, we will encode them with default values\n",
    "Ex: in our test data if have State: D then we encode it as [0.5, 0.05]"
   ]
  },
  {
   "cell_type": "markdown",
   "metadata": {
    "colab_type": "text",
    "id": "3KwfGufDsc3D"
   },
   "source": [
    "<ol>\n",
    "    <li><strong>Apply GBDT on these feature sets</strong>\n",
    "        <ul>\n",
    "            <li><font color='red'>Set 1</font>: categorical(instead of one hot encoding, try <a href='https://www.appliedaicourse.com/course/applied-ai-course-online/lessons/handling-categorical-and-numerical-features/'>response coding</a>: use probability values), numerical features + project_title(TFIDF)+  preprocessed_eassay (TFIDF)+sentiment Score of eassay(check the bellow example, include all 4 values as 4 features)</li>\n",
    "            <li><font color='red'>Set 2</font>: categorical(instead of one hot encoding, try <a href='https://www.appliedaicourse.com/course/applied-ai-course-online/lessons/handling-categorical-and-numerical-features/'>response coding</a>: use probability values), numerical features + project_title(TFIDF W2V)+  preprocessed_eassay (TFIDF W2V)</li>        </ul>\n",
    "    </li>\n",
    "    <li><strong>The hyper paramter tuning (Consider any two hyper parameters)</strong>\n",
    "        <ul>\n",
    "    <li>Find the best hyper parameter which will give the maximum <a href='https://www.appliedaicourse.com/course/applied-ai-course-online/lessons/receiver-operating-characteristic-curve-roc-curve-and-auc-1/'>AUC</a> value</li>\n",
    "    <li>find the best hyper paramter using k-fold cross validation/simple cross validation data</li>\n",
    "    <li>use gridsearch cv or randomsearch cv or you can write your own for loops to do this task</li>\n",
    "        </ul>\n",
    "    </li>\n",
    "    <li>\n",
    "    <strong>Representation of results</strong>\n",
    "        <ul>\n",
    "    <li>You need to plot the performance of model both on train data and cross validation data for each hyper parameter, like shown in the figure\n",
    "    <img src='https://i.imgur.com/Gp2DQmh.jpg' width=500px> with X-axis as <strong>n_estimators</strong>, Y-axis as <strong>max_depth</strong>, and Z-axis as <strong>AUC Score</strong> , we have given the notebook which explains how to plot this 3d plot, you can find it in the same drive <i>3d_scatter_plot.ipynb</i></li>\n",
    "            <p style=\"text-align:center;font-size:30px;color:red;\"><strong>or</strong></p> <br>\n",
    "    <li>You need to plot the performance of model both on train data and cross validation data for each hyper parameter, like shown in the figure\n",
    "    <img src='https://i.imgur.com/fgN9aUP.jpg' width=300px> <a href='https://seaborn.pydata.org/generated/seaborn.heatmap.html'>seaborn heat maps</a> with rows as <strong>n_estimators</strong>, columns as <strong>max_depth</strong>, and values inside the cell representing <strong>AUC Score</strong> </li>\n",
    "    <li>You choose either of the plotting techniques out of 3d plot or heat map</li>\n",
    "    <li>Once after you found the best hyper parameter, you need to train your model with it, and find the AUC on test data and plot the ROC curve on both train and test.\n",
    "    <img src='https://i.imgur.com/wMQDTFe.jpg' width=300px></li>\n",
    "    <li>Along with plotting ROC curve, you need to print the <a href='https://www.appliedaicourse.com/course/applied-ai-course-online/lessons/confusion-matrix-tpr-fpr-fnr-tnr-1/'>confusion matrix</a> with predicted and original labels of test data points\n",
    "    <img src='https://i.imgur.com/IdN5Ctv.png' width=300px></li>\n",
    "            </ul>\n",
    "    <br>\n",
    "    <li>You need to summarize the results at the end of the notebook, summarize it in the table format\n",
    "        <img src='http://i.imgur.com/YVpIGGE.jpg' width=400px>\n",
    "    </li>\n",
    "</ol>"
   ]
  },
  {
   "cell_type": "code",
   "execution_count": 1,
   "metadata": {
    "colab": {},
    "colab_type": "code",
    "id": "iffa2_WGsc3H",
    "outputId": "151fc2d5-3bc1-4206-9bd2-000dbf662b31"
   },
   "outputs": [
    {
     "name": "stdout",
     "output_type": "stream",
     "text": [
      "neg: 0.01, neu: 0.745, pos: 0.245, compound: 0.9975, "
     ]
    }
   ],
   "source": [
    "import nltk\n",
    "from nltk.sentiment.vader import SentimentIntensityAnalyzer\n",
    "\n",
    "# import nltk\n",
    "# nltk.download('vader_lexicon')\n",
    "\n",
    "sid = SentimentIntensityAnalyzer()\n",
    "\n",
    "for_sentiment = 'a person is a person no matter how small dr seuss i teach the smallest students with the biggest enthusiasm \\\n",
    "for learning my students learn in many different ways using all of our senses and multiple intelligences i use a wide range\\\n",
    "of techniques to help all my students succeed students in my class come from a variety of different backgrounds which makes\\\n",
    "for wonderful sharing of experiences and cultures including native americans our school is a caring community of successful \\\n",
    "learners which can be seen through collaborative student project based learning in and out of the classroom kindergarteners \\\n",
    "in my class love to work with hands on materials and have many different opportunities to practice a skill before it is\\\n",
    "mastered having the social skills to work cooperatively with friends is a crucial aspect of the kindergarten curriculum\\\n",
    "montana is the perfect place to learn about agriculture and nutrition my students love to role play in our pretend kitchen\\\n",
    "in the early childhood classroom i have had several kids ask me can we try cooking with real food i will take their idea \\\n",
    "and create common core cooking lessons where we learn important math and writing concepts while cooking delicious healthy \\\n",
    "food for snack time my students will have a grounded appreciation for the work that went into making the food and knowledge \\\n",
    "of where the ingredients came from as well as how it is healthy for their bodies this project would expand our learning of \\\n",
    "nutrition and agricultural cooking recipes by having us peel our own apples to make homemade applesauce make our own bread \\\n",
    "and mix up healthy plants from our classroom garden in the spring we will also create our own cookbooks to be printed and \\\n",
    "shared with families students will gain math and literature skills as well as a life long enjoyment for healthy cooking \\\n",
    "nannan'\n",
    "ss = sid.polarity_scores(for_sentiment)\n",
    "\n",
    "for k in ss:\n",
    "    print('{0}: {1}, '.format(k, ss[k]), end='')\n",
    "\n",
    "# we can use these 4 things as features/attributes (neg, neu, pos, compound)\n",
    "# neg: 0.0, neu: 0.753, pos: 0.247, compound: 0.93"
   ]
  },
  {
   "cell_type": "markdown",
   "metadata": {
    "colab_type": "text",
    "id": "BOyTl7oKsc3W"
   },
   "source": [
    "<h1>1. GBDT (xgboost/lightgbm) </h1>"
   ]
  },
  {
   "cell_type": "markdown",
   "metadata": {
    "colab_type": "text",
    "id": "VWge-b2Zsc3Z"
   },
   "source": [
    "## 1.1 Loading Data"
   ]
  },
  {
   "cell_type": "code",
   "execution_count": 2,
   "metadata": {},
   "outputs": [],
   "source": [
    "#please use below code to load glove vectors \n",
    "import pickle\n",
    "with open('glove_vectors', 'rb') as f:\n",
    "    model = pickle.load(f)\n",
    "    glove_words =  set(model.keys())"
   ]
  },
  {
   "cell_type": "code",
   "execution_count": 3,
   "metadata": {},
   "outputs": [
    {
     "data": {
      "text/html": [
       "<div>\n",
       "<style scoped>\n",
       "    .dataframe tbody tr th:only-of-type {\n",
       "        vertical-align: middle;\n",
       "    }\n",
       "\n",
       "    .dataframe tbody tr th {\n",
       "        vertical-align: top;\n",
       "    }\n",
       "\n",
       "    .dataframe thead th {\n",
       "        text-align: right;\n",
       "    }\n",
       "</style>\n",
       "<table border=\"1\" class=\"dataframe\">\n",
       "  <thead>\n",
       "    <tr style=\"text-align: right;\">\n",
       "      <th></th>\n",
       "      <th>teacher_prefix</th>\n",
       "      <th>school_state</th>\n",
       "      <th>project_grade_category</th>\n",
       "      <th>project_subject_categories</th>\n",
       "      <th>project_subject_subcategories</th>\n",
       "      <th>teacher_number_of_previously_posted_projects</th>\n",
       "      <th>project_is_approved</th>\n",
       "      <th>essay</th>\n",
       "      <th>title</th>\n",
       "      <th>price</th>\n",
       "    </tr>\n",
       "  </thead>\n",
       "  <tbody>\n",
       "    <tr>\n",
       "      <th>0</th>\n",
       "      <td>mrs</td>\n",
       "      <td>in</td>\n",
       "      <td>grades_prek_2</td>\n",
       "      <td>literacy_language</td>\n",
       "      <td>esl_literacy</td>\n",
       "      <td>0</td>\n",
       "      <td>0</td>\n",
       "      <td>students english learners working english seco...</td>\n",
       "      <td>educational support english learners home</td>\n",
       "      <td>154.6</td>\n",
       "    </tr>\n",
       "  </tbody>\n",
       "</table>\n",
       "</div>"
      ],
      "text/plain": [
       "  teacher_prefix school_state project_grade_category  \\\n",
       "0            mrs           in          grades_prek_2   \n",
       "\n",
       "  project_subject_categories project_subject_subcategories  \\\n",
       "0          literacy_language                  esl_literacy   \n",
       "\n",
       "   teacher_number_of_previously_posted_projects  project_is_approved  \\\n",
       "0                                             0                    0   \n",
       "\n",
       "                                               essay  \\\n",
       "0  students english learners working english seco...   \n",
       "\n",
       "                                       title  price  \n",
       "0  educational support english learners home  154.6  "
      ]
     },
     "execution_count": 3,
     "metadata": {},
     "output_type": "execute_result"
    }
   ],
   "source": [
    "import pandas as pd\n",
    "import numpy as np\n",
    "data = pd.read_csv('data.csv')\n",
    "data = data.drop('project_title',axis=1)\n",
    "data.dropna(inplace=True)\n",
    "data.head(1)"
   ]
  },
  {
   "cell_type": "markdown",
   "metadata": {
    "colab_type": "text",
    "id": "6lAMFKFcsc3j"
   },
   "source": [
    "<h2>1.2 Splitting data into Train and cross validation(or test): Stratified Sampling</h2>"
   ]
  },
  {
   "cell_type": "code",
   "execution_count": 4,
   "metadata": {
    "colab": {},
    "colab_type": "code",
    "id": "ODMijuuNsc3l"
   },
   "outputs": [],
   "source": [
    "# please write all the code with proper documentation, and proper titles for each subsection\n",
    "# go through documentations and blogs before you start coding\n",
    "# first figure out what to do, and then think about how to do.\n",
    "# reading and understanding error messages will be very much helpfull in debugging your code\n",
    "# when you plot any graph make sure you use \n",
    "    # a. Title, that describes your plot, this will be very helpful to the reader\n",
    "    # b. Legends if needed\n",
    "    # c. X-axis label\n",
    "    # d. Y-axis label\n",
    "y = data['project_is_approved'].values\n",
    "X = data.drop(['project_is_approved'],axis=1)\n",
    "from sklearn.model_selection import train_test_split\n",
    "X_train, X_test, y_train, y_test = train_test_split(X, y, test_size=0.33)"
   ]
  },
  {
   "cell_type": "code",
   "execution_count": 6,
   "metadata": {},
   "outputs": [
    {
     "data": {
      "text/plain": [
       "1"
      ]
     },
     "execution_count": 6,
     "metadata": {},
     "output_type": "execute_result"
    }
   ],
   "source": [
    "y_train[15]"
   ]
  },
  {
   "cell_type": "markdown",
   "metadata": {
    "colab_type": "text",
    "id": "vsALgl5Asc3u"
   },
   "source": [
    "<h2>1.3 Make Data Model Ready: encoding eassay, and project_title</h2>"
   ]
  },
  {
   "cell_type": "markdown",
   "metadata": {},
   "source": [
    "## Encoding using TFIDF Vectorizer"
   ]
  },
  {
   "cell_type": "code",
   "execution_count": 5,
   "metadata": {
    "colab": {},
    "colab_type": "code",
    "id": "1A_85jbWsc3v"
   },
   "outputs": [
    {
     "name": "stdout",
     "output_type": "stream",
     "text": [
      "Train and test shapes:\n",
      "(73167, 9) (73167,)\n",
      "(36038, 9) (36038,)\n",
      "====================================================================================================\n"
     ]
    },
    {
     "name": "stderr",
     "output_type": "stream",
     "text": [
      "0it [00:00, ?it/s]\n"
     ]
    },
    {
     "name": "stdout",
     "output_type": "stream",
     "text": [
      "After vectorization of essay\n",
      "(73167, 14071) (73167,)\n",
      "(36038, 14071) (36038,)\n",
      "====================================================================================================\n"
     ]
    },
    {
     "name": "stderr",
     "output_type": "stream",
     "text": [
      "0it [00:00, ?it/s]\n"
     ]
    },
    {
     "name": "stdout",
     "output_type": "stream",
     "text": [
      "After vectorization of title\n",
      "(73167, 2518) (73167,)\n",
      "(36038, 2518) (36038,)\n"
     ]
    }
   ],
   "source": [
    "from sklearn.feature_extraction.text import TfidfVectorizer\n",
    "from tqdm import tqdm\n",
    "print('Train and test shapes:')\n",
    "print(X_train.shape, y_train.shape)\n",
    "print(X_test.shape, y_test.shape)\n",
    "\n",
    "print(\"=\"*100)\n",
    "\n",
    "#Encoding project essay\n",
    "vectorizer1 = TfidfVectorizer(min_df=10)\n",
    "tqdm(vectorizer1.fit(X_train['essay'].values))\n",
    "train_tfidf_essay = vectorizer1.transform(X_train['essay'].values)\n",
    "test_tfidf_essay = vectorizer1.transform(X_test['essay'].values)\n",
    "\n",
    "print(\"After vectorization of essay\")\n",
    "print(train_tfidf_essay.shape, y_train.shape)\n",
    "print(test_tfidf_essay.shape,y_test.shape)\n",
    "\n",
    "\n",
    "#Encoding project_title\n",
    "from sklearn.feature_extraction.text import TfidfVectorizer\n",
    "\n",
    "print(\"=\"*100)\n",
    "\n",
    "\n",
    "vectorizer2 = TfidfVectorizer(min_df=10)\n",
    "tqdm(vectorizer2.fit(X_train['title'].values))\n",
    "train_tfidf_title = vectorizer2.transform(X_train['title'].values)\n",
    "test_tfidf_title = vectorizer2.transform(X_test['title'].values)\n",
    "\n",
    "print(\"After vectorization of title\")\n",
    "print(train_tfidf_title.shape, y_train.shape)\n",
    "print(test_tfidf_title.shape,y_test.shape)"
   ]
  },
  {
   "cell_type": "markdown",
   "metadata": {},
   "source": [
    "## Encoding using TFIDF W2V Vectorizer"
   ]
  },
  {
   "cell_type": "code",
   "execution_count": 6,
   "metadata": {},
   "outputs": [],
   "source": [
    "# we are converting a dictionary with word as a key, and the idf as a value\n",
    "dictionary1 = dict(zip(vectorizer1.get_feature_names(), list(vectorizer1.idf_)))\n",
    "tfidf_words1 = set(vectorizer1.get_feature_names())\n",
    "# we are converting a dictionary with word as a key, and the idf as a value\n",
    "dictionary2 = dict(zip(vectorizer2.get_feature_names(), list(vectorizer2.idf_)))\n",
    "tfidf_words2 = set(vectorizer2.get_feature_names())"
   ]
  },
  {
   "cell_type": "code",
   "execution_count": 7,
   "metadata": {},
   "outputs": [
    {
     "name": "stderr",
     "output_type": "stream",
     "text": [
      "100%|███████████████████████████████████████████████████████████████████████████| 73167/73167 [02:47<00:00, 437.84it/s]\n"
     ]
    }
   ],
   "source": [
    "#Encoding train_essay\n",
    "tfidf_w2v_essay_vectors = []; # the avg-w2v for each sentence/review is stored in this list\n",
    "for sentence in tqdm(X_train['essay'].values): # for each review/sentence\n",
    "    vector = np.zeros(300) # as word vectors are of zero length\n",
    "    tf_idf_weight =0; # num of words with a valid vector in the sentence/review\n",
    "    for word in sentence.split(): # for each word in a review/sentence\n",
    "        if (word in glove_words) and (word in tfidf_words1):\n",
    "            vec = model[word] # getting the vector for each word\n",
    "            # here we are multiplying idf value(dictionary[word]) and the tf value((sentence.count(word)/len(sentence.split())))\n",
    "            tf_idf = dictionary1[word]*(sentence.count(word)/len(sentence.split())) # getting the tfidf value for each word\n",
    "            vector += (vec * tf_idf) # calculating tfidf weighted w2v\n",
    "            tf_idf_weight += tf_idf\n",
    "    if tf_idf_weight != 0:\n",
    "        vector /= tf_idf_weight\n",
    "    tfidf_w2v_essay_vectors.append(vector)"
   ]
  },
  {
   "cell_type": "code",
   "execution_count": 8,
   "metadata": {},
   "outputs": [
    {
     "data": {
      "text/plain": [
       "73167"
      ]
     },
     "execution_count": 8,
     "metadata": {},
     "output_type": "execute_result"
    }
   ],
   "source": [
    "len(tfidf_w2v_essay_vectors)"
   ]
  },
  {
   "cell_type": "code",
   "execution_count": 9,
   "metadata": {},
   "outputs": [
    {
     "name": "stderr",
     "output_type": "stream",
     "text": [
      "100%|███████████████████████████████████████████████████████████████████████████| 36038/36038 [01:17<00:00, 464.63it/s]\n"
     ]
    }
   ],
   "source": [
    "#Encoding test_essay\n",
    "tfidf_test_w2v_essay_vectors = []; # the avg-w2v for each sentence/review is stored in this list\n",
    "for sentence in tqdm(X_test['essay'].values): # for each review/sentence\n",
    "    vector = np.zeros(300) # as word vectors are of zero length\n",
    "    tf_idf_weight =0; # num of words with a valid vector in the sentence/review\n",
    "    for word in sentence.split(): # for each word in a review/sentence\n",
    "        if (word in glove_words) and (word in tfidf_words1):\n",
    "            vec = model[word] # getting the vector for each word\n",
    "            # here we are multiplying idf value(dictionary[word]) and the tf value((sentence.count(word)/len(sentence.split())))\n",
    "            tf_idf = dictionary1[word]*(sentence.count(word)/len(sentence.split())) # getting the tfidf value for each word\n",
    "            vector += (vec * tf_idf) # calculating tfidf weighted w2v\n",
    "            tf_idf_weight += tf_idf\n",
    "    if tf_idf_weight != 0:\n",
    "        vector /= tf_idf_weight\n",
    "    tfidf_test_w2v_essay_vectors.append(vector)"
   ]
  },
  {
   "cell_type": "code",
   "execution_count": 10,
   "metadata": {},
   "outputs": [
    {
     "data": {
      "text/plain": [
       "36038"
      ]
     },
     "execution_count": 10,
     "metadata": {},
     "output_type": "execute_result"
    }
   ],
   "source": [
    "len(tfidf_test_w2v_essay_vectors)"
   ]
  },
  {
   "cell_type": "code",
   "execution_count": 11,
   "metadata": {},
   "outputs": [
    {
     "name": "stderr",
     "output_type": "stream",
     "text": [
      "100%|█████████████████████████████████████████████████████████████████████████| 73167/73167 [00:02<00:00, 35102.80it/s]\n"
     ]
    }
   ],
   "source": [
    "#Encoding train_title\n",
    "tfidf_w2v_title_vectors = []; # the avg-w2v for each sentence/review is stored in this list\n",
    "for sentence in tqdm(X_train['title'].values): # for each review/sentence\n",
    "    vector = np.zeros(300) # as word vectors are of zero length\n",
    "    tf_idf_weight =0; # num of words with a valid vector in the sentence/review\n",
    "    for word in sentence.split(): # for each word in a review/sentence\n",
    "        if (word in glove_words) and (word in tfidf_words2):\n",
    "            vec = model[word] # getting the vector for each word\n",
    "            # here we are multiplying idf value(dictionary[word]) and the tf value((sentence.count(word)/len(sentence.split())))\n",
    "            tf_idf = dictionary2[word]*(sentence.count(word)/len(sentence.split())) # getting the tfidf value for each word\n",
    "            vector += (vec * tf_idf) # calculating tfidf weighted w2v\n",
    "            tf_idf_weight += tf_idf\n",
    "    if tf_idf_weight != 0:\n",
    "        vector /= tf_idf_weight\n",
    "    tfidf_w2v_title_vectors.append(vector)"
   ]
  },
  {
   "cell_type": "code",
   "execution_count": 12,
   "metadata": {},
   "outputs": [
    {
     "name": "stderr",
     "output_type": "stream",
     "text": [
      "100%|█████████████████████████████████████████████████████████████████████████| 36038/36038 [00:01<00:00, 24279.39it/s]\n"
     ]
    }
   ],
   "source": [
    "#Encoding test_title\n",
    "tfidf_test_w2v_title_vectors = []; # the avg-w2v for each sentence/review is stored in this list\n",
    "for sentence in tqdm(X_test['title'].values): # for each review/sentence\n",
    "    vector = np.zeros(300) # as word vectors are of zero length\n",
    "    tf_idf_weight =0; # num of words with a valid vector in the sentence/review\n",
    "    for word in sentence.split(): # for each word in a review/sentence\n",
    "        if (word in glove_words) and (word in tfidf_words2):\n",
    "            vec = model[word] # getting the vector for each word\n",
    "            # here we are multiplying idf value(dictionary[word]) and the tf value((sentence.count(word)/len(sentence.split())))\n",
    "            tf_idf = dictionary2[word]*(sentence.count(word)/len(sentence.split())) # getting the tfidf value for each word\n",
    "            vector += (vec * tf_idf) # calculating tfidf weighted w2v\n",
    "            tf_idf_weight += tf_idf\n",
    "    if tf_idf_weight != 0:\n",
    "        vector /= tf_idf_weight\n",
    "    tfidf_test_w2v_title_vectors.append(vector)"
   ]
  },
  {
   "cell_type": "code",
   "execution_count": 13,
   "metadata": {},
   "outputs": [
    {
     "data": {
      "text/plain": [
       "36038"
      ]
     },
     "execution_count": 13,
     "metadata": {},
     "output_type": "execute_result"
    }
   ],
   "source": [
    "len(tfidf_test_w2v_title_vectors)"
   ]
  },
  {
   "cell_type": "markdown",
   "metadata": {},
   "source": [
    "# Sentiment scores on essay "
   ]
  },
  {
   "cell_type": "code",
   "execution_count": 14,
   "metadata": {},
   "outputs": [
    {
     "name": "stderr",
     "output_type": "stream",
     "text": [
      "100%|███████████████████████████████████████████████████████████████████████████| 73167/73167 [02:54<00:00, 419.10it/s]\n",
      "100%|███████████████████████████████████████████████████████████████████████████| 36038/36038 [01:16<00:00, 469.99it/s]\n"
     ]
    }
   ],
   "source": [
    "from tqdm import tqdm\n",
    "essays_train=X_train['essay'].values\n",
    "essays_test=X_test['essay'].values\n",
    "scores_train=[]\n",
    "scores_test=[]\n",
    "for essay in tqdm(essays_train):\n",
    "    scores_train.append(sid.polarity_scores(essay))\n",
    "for essay in tqdm(essays_test):\n",
    "    scores_test.append(sid.polarity_scores(essay))"
   ]
  },
  {
   "cell_type": "code",
   "execution_count": 15,
   "metadata": {},
   "outputs": [
    {
     "data": {
      "text/plain": [
       "[{'neg': 0.03, 'neu': 0.702, 'pos': 0.268, 'compound': 0.9753},\n",
       " {'neg': 0.108, 'neu': 0.739, 'pos': 0.153, 'compound': 0.6774}]"
      ]
     },
     "execution_count": 15,
     "metadata": {},
     "output_type": "execute_result"
    }
   ],
   "source": [
    "scores_train[0:2]\n",
    "import numpy as np\n",
    "neg_train=[]\n",
    "neu_train=[]\n",
    "pos_train=[]\n",
    "comp_train=[]\n",
    "neg_test=[]\n",
    "neu_test=[]\n",
    "pos_test=[]\n",
    "comp_test=[]\n",
    "scores_train[0:2]"
   ]
  },
  {
   "cell_type": "code",
   "execution_count": 16,
   "metadata": {},
   "outputs": [
    {
     "name": "stderr",
     "output_type": "stream",
     "text": [
      "100%|████████████████████████████████████████████████████████████████████████| 73167/73167 [00:00<00:00, 712267.30it/s]\n",
      "100%|████████████████████████████████████████████████████████████████████████| 36038/36038 [00:00<00:00, 842545.39it/s]\n"
     ]
    }
   ],
   "source": [
    "for i in tqdm(range(len(scores_train))):\n",
    "    neg_train.append(scores_train[i]['neg'])\n",
    "    neu_train.append(scores_train[i]['neu'])\n",
    "    pos_train.append(scores_train[i]['pos'])\n",
    "    comp_train.append(scores_train[i]['compound'])\n",
    "for i in tqdm(range(len(scores_test))):\n",
    "    neg_test.append(scores_test[i]['neg'])\n",
    "    neu_test.append(scores_test[i]['neu'])\n",
    "    pos_test.append(scores_test[i]['pos'])\n",
    "    comp_test.append(scores_test[i]['compound'])"
   ]
  },
  {
   "cell_type": "code",
   "execution_count": 17,
   "metadata": {},
   "outputs": [],
   "source": [
    "import pandas as pd\n",
    "neg_train=np.array(neg_train)\n",
    "neu_train=np.array(neu_train)\n",
    "pos_train=np.array(pos_train)\n",
    "comp_train=np.array(comp_train)\n",
    "neg_test=np.array(neg_test)\n",
    "neu_test=np.array(neu_test)\n",
    "pos_test=np.array(pos_test)\n",
    "comp_test=np.array(comp_test)"
   ]
  },
  {
   "cell_type": "code",
   "execution_count": 18,
   "metadata": {},
   "outputs": [],
   "source": [
    "ss_train=pd.DataFrame({'neg':neg_train,'neu':neu_train,'pos':pos_train,'compound':comp_train},columns=['neg','neu','pos','compound'])"
   ]
  },
  {
   "cell_type": "code",
   "execution_count": 19,
   "metadata": {},
   "outputs": [],
   "source": [
    "ss_test=pd.DataFrame({'neg':neg_test,'neu':neu_test,'pos':pos_test,'compound':comp_test},columns=['neg','neu','pos','compound'])"
   ]
  },
  {
   "cell_type": "code",
   "execution_count": 20,
   "metadata": {},
   "outputs": [
    {
     "data": {
      "text/html": [
       "<div>\n",
       "<style scoped>\n",
       "    .dataframe tbody tr th:only-of-type {\n",
       "        vertical-align: middle;\n",
       "    }\n",
       "\n",
       "    .dataframe tbody tr th {\n",
       "        vertical-align: top;\n",
       "    }\n",
       "\n",
       "    .dataframe thead th {\n",
       "        text-align: right;\n",
       "    }\n",
       "</style>\n",
       "<table border=\"1\" class=\"dataframe\">\n",
       "  <thead>\n",
       "    <tr style=\"text-align: right;\">\n",
       "      <th></th>\n",
       "      <th>neg</th>\n",
       "      <th>neu</th>\n",
       "      <th>pos</th>\n",
       "      <th>compound</th>\n",
       "    </tr>\n",
       "  </thead>\n",
       "  <tbody>\n",
       "    <tr>\n",
       "      <th>0</th>\n",
       "      <td>0.131</td>\n",
       "      <td>0.643</td>\n",
       "      <td>0.225</td>\n",
       "      <td>0.8856</td>\n",
       "    </tr>\n",
       "    <tr>\n",
       "      <th>1</th>\n",
       "      <td>0.030</td>\n",
       "      <td>0.640</td>\n",
       "      <td>0.329</td>\n",
       "      <td>0.9925</td>\n",
       "    </tr>\n",
       "    <tr>\n",
       "      <th>2</th>\n",
       "      <td>0.000</td>\n",
       "      <td>0.813</td>\n",
       "      <td>0.187</td>\n",
       "      <td>0.9867</td>\n",
       "    </tr>\n",
       "    <tr>\n",
       "      <th>3</th>\n",
       "      <td>0.039</td>\n",
       "      <td>0.601</td>\n",
       "      <td>0.360</td>\n",
       "      <td>0.9967</td>\n",
       "    </tr>\n",
       "    <tr>\n",
       "      <th>4</th>\n",
       "      <td>0.118</td>\n",
       "      <td>0.637</td>\n",
       "      <td>0.245</td>\n",
       "      <td>0.9633</td>\n",
       "    </tr>\n",
       "  </tbody>\n",
       "</table>\n",
       "</div>"
      ],
      "text/plain": [
       "     neg    neu    pos  compound\n",
       "0  0.131  0.643  0.225    0.8856\n",
       "1  0.030  0.640  0.329    0.9925\n",
       "2  0.000  0.813  0.187    0.9867\n",
       "3  0.039  0.601  0.360    0.9967\n",
       "4  0.118  0.637  0.245    0.9633"
      ]
     },
     "execution_count": 20,
     "metadata": {},
     "output_type": "execute_result"
    }
   ],
   "source": [
    "ss_test.head()"
   ]
  },
  {
   "cell_type": "markdown",
   "metadata": {
    "colab_type": "text",
    "id": "S3Vxxv2Hsc31"
   },
   "source": [
    "<h2>1.4 Make Data Model Ready: encoding numerical, categorical features</h2>"
   ]
  },
  {
   "cell_type": "markdown",
   "metadata": {},
   "source": [
    "## Encoding categorical: teacher_prefix"
   ]
  },
  {
   "cell_type": "code",
   "execution_count": 21,
   "metadata": {
    "colab": {},
    "colab_type": "code",
    "id": "RAtihVPqsc33"
   },
   "outputs": [],
   "source": [
    "# Concatenating 'teacher_prefix' and target variables into a dataframe\n",
    "df = pd.concat([X_train['teacher_prefix'],pd.Series(y_train,name='y_hat',index=X_train['teacher_prefix'].index)],join='inner',axis=1)\n",
    "na = np.array(df) \n",
    "response_table = dict() # A dict to store a list of prob_scores for unique categories\n",
    "for i in range(len(na)):\n",
    "    if not na[i][0] in response_table.keys():\n",
    "        response_table[na[i][0]]=[0,0]\n",
    "        response_table[na[i][0]][na[i][1]]+=1\n",
    "    else :\n",
    "        response_table[na[i][0]][na[i][1]]+=1 \n",
    "#Dividing each value in dict by the count of each unique category to get the prob_value\n",
    "for key,value in response_table.items():\n",
    "    response_table[key]/=np.sum(np.array(value))\n",
    "\n",
    "#Modified list to hold prob_scores in the form [P[Y=0/category],P[Y=1/category]]\n",
    "modified = []\n",
    "for pair in na:\n",
    "    key = pair[0]\n",
    "    modified.append(response_table[key])\n",
    "prefix_encoded = pd.DataFrame(data=modified,columns=['teacher_prefix_0','teacher_prefix_1'],index=X_train['teacher_prefix'].index)\n"
   ]
  },
  {
   "cell_type": "code",
   "execution_count": 22,
   "metadata": {},
   "outputs": [],
   "source": [
    "prefix_test = X_test['teacher_prefix'].values\n",
    "prefix_test_encoded = []\n",
    "for i in range(len(prefix_test)):\n",
    "    key = prefix_test[i]\n",
    "    if key in response_table.keys():\n",
    "        prefix_test_encoded.append(response_table[key])\n",
    "    else:\n",
    "        prefix_test_encoded.append([0.5,0.5])\n",
    "prefix_test_encoded = pd.DataFrame(data=prefix_test_encoded,columns=['teacher_prefix_0','teacher_prefix_1'],index=X_test['teacher_prefix'].index)\n",
    "        "
   ]
  },
  {
   "cell_type": "markdown",
   "metadata": {},
   "source": [
    "## Encoding categorical: school_state"
   ]
  },
  {
   "cell_type": "code",
   "execution_count": 23,
   "metadata": {},
   "outputs": [],
   "source": [
    "#Encoding school state\n",
    "df = pd.concat([X_train['school_state'],pd.Series(y_train,name='y_hat',index=X_train['school_state'].index)],join='inner',axis=1)\n",
    "na = np.array(df)\n",
    "response_table = dict()\n",
    "for i in range(len(na)):\n",
    "    if not na[i][0] in response_table.keys():\n",
    "        response_table[na[i][0]]=[0,0]\n",
    "        response_table[na[i][0]][na[i][1]]+=1\n",
    "    else :\n",
    "        response_table[na[i][0]][na[i][1]]+=1 \n",
    "\n",
    "\n",
    "for key,value in response_table.items():\n",
    "    response_table[key]/=np.sum(np.array(value))\n",
    "modified = []\n",
    "for pair in na:\n",
    "    key = pair[0]\n",
    "    modified.append(response_table[key])\n",
    "state_encoded = pd.DataFrame(data=modified,columns=['school_state_0','school_state_1'],index=X_train['school_state'].index)\n"
   ]
  },
  {
   "cell_type": "code",
   "execution_count": 24,
   "metadata": {},
   "outputs": [],
   "source": [
    "state_test = X_test['school_state'].values\n",
    "state_test_encoded = []\n",
    "for i in range(len(state_test)):\n",
    "    key = state_test[i]\n",
    "    if key in response_table.keys():\n",
    "        state_test_encoded.append(response_table[key])\n",
    "    else:\n",
    "        state_test_encoded.append([0.5,0.5])\n",
    "state_test_encoded = pd.DataFrame(data=state_test_encoded,columns=['school_state_0','school_state_1'],index=X_test['school_state'].index)"
   ]
  },
  {
   "cell_type": "markdown",
   "metadata": {},
   "source": [
    "## Encoding categorical: project_grade"
   ]
  },
  {
   "cell_type": "code",
   "execution_count": 25,
   "metadata": {},
   "outputs": [],
   "source": [
    "#Encoding project_grade category\n",
    "df = pd.concat([X_train['project_grade_category'],pd.Series(y_train,name='y_hat',index=X_train['project_grade_category'].index)],join='inner',axis=1)\n",
    "na = np.array(df)\n",
    "response_table = dict()\n",
    "for i in range(len(na)):\n",
    "    if not na[i][0] in response_table.keys():\n",
    "        response_table[na[i][0]]=[0,0]\n",
    "        response_table[na[i][0]][na[i][1]]+=1\n",
    "    else :\n",
    "        response_table[na[i][0]][na[i][1]]+=1 \n",
    "\n",
    "\n",
    "for key,value in response_table.items():\n",
    "    response_table[key]/=np.sum(np.array(value))\n",
    "modified = []\n",
    "for pair in na:\n",
    "    key = pair[0]\n",
    "    modified.append(response_table[key])\n",
    "grade_encoded = pd.DataFrame(data=modified,columns=['project_grade_category_0','project_grade_category_1'],index=X_train['project_grade_category'].index)"
   ]
  },
  {
   "cell_type": "code",
   "execution_count": 26,
   "metadata": {},
   "outputs": [
    {
     "data": {
      "text/plain": [
       "{'grades_3_5': array([0.14415396, 0.85584604]),\n",
       " 'grades_prek_2': array([0.15006047, 0.84993953]),\n",
       " 'grades_9_12': array([0.16072657, 0.83927343]),\n",
       " 'grades_6_8': array([0.16093778, 0.83906222])}"
      ]
     },
     "execution_count": 26,
     "metadata": {},
     "output_type": "execute_result"
    }
   ],
   "source": [
    "response_table"
   ]
  },
  {
   "cell_type": "code",
   "execution_count": 27,
   "metadata": {},
   "outputs": [],
   "source": [
    "grade_test = X_test['project_grade_category'].values\n",
    "grade_test_encoded = []\n",
    "for i in range(len(grade_test)):\n",
    "    key = grade_test[i]\n",
    "    if key in response_table.keys():\n",
    "        grade_test_encoded.append(response_table[key])\n",
    "    else:\n",
    "        grade_test_encoded.append([0.5,0.5])\n",
    "grade_test_encoded = pd.DataFrame(data=grade_test_encoded,columns=['project_grade_category_0','project_grade_category_1'],index=X_test['project_grade_category'].index)"
   ]
  },
  {
   "cell_type": "markdown",
   "metadata": {},
   "source": [
    "## Encoding categorical: clean_categories"
   ]
  },
  {
   "cell_type": "code",
   "execution_count": 28,
   "metadata": {},
   "outputs": [],
   "source": [
    "#Encoding categories\n",
    "df = pd.concat([X_train['project_subject_categories'],pd.Series(y_train,name='y_hat',index=X_train['project_subject_categories'].index)],join='inner',axis=1)\n",
    "na = np.array(df)\n",
    "response_table = dict()\n",
    "for i in range(len(na)):\n",
    "    if not na[i][0] in response_table.keys():\n",
    "        response_table[na[i][0]]=[0,0]\n",
    "        response_table[na[i][0]][na[i][1]]+=1\n",
    "    else :\n",
    "        response_table[na[i][0]][na[i][1]]+=1 \n",
    "\n",
    "\n",
    "for key,value in response_table.items():\n",
    "    response_table[key]/=np.sum(np.array(value))\n",
    "modified = []\n",
    "for pair in na:\n",
    "    key = pair[0]\n",
    "    modified.append(response_table[key])\n",
    "cat_encoded = pd.DataFrame(data=modified,columns=['clean_categories_0','clean_categories_1'],index=X_train['project_subject_categories'].index)"
   ]
  },
  {
   "cell_type": "code",
   "execution_count": 29,
   "metadata": {},
   "outputs": [],
   "source": [
    "cat_test = X_test['project_subject_categories'].values\n",
    "cat_test_encoded = []\n",
    "for i in range(len(cat_test)):\n",
    "    key = cat_test[i]\n",
    "    if key in response_table.keys():\n",
    "        cat_test_encoded.append(response_table[key])\n",
    "    else:\n",
    "        cat_test_encoded.append([0.5,0.5])\n",
    "cat_test_encoded = pd.DataFrame(data=cat_test_encoded,columns=['clean_categories_0','clean_categories_1'],index=X_test['project_subject_categories'].index)\n"
   ]
  },
  {
   "cell_type": "markdown",
   "metadata": {},
   "source": [
    "## Encoding categorical: clean_subcategories"
   ]
  },
  {
   "cell_type": "code",
   "execution_count": 30,
   "metadata": {},
   "outputs": [],
   "source": [
    "#Encoding sub_categories\n",
    "\n",
    "df = pd.concat([X_train['project_subject_subcategories'],pd.Series(y_train,name='y_hat',index=X_train['project_subject_subcategories'].index)],join='inner',axis=1)\n",
    "na = np.array(df)\n",
    "response_table = dict()\n",
    "for i in range(len(na)):\n",
    "    if not na[i][0] in response_table.keys():\n",
    "        response_table[na[i][0]]=[0,0]\n",
    "        response_table[na[i][0]][na[i][1]]+=1\n",
    "    else :\n",
    "        response_table[na[i][0]][na[i][1]]+=1 \n",
    "\n",
    "\n",
    "for key,value in response_table.items():\n",
    "    response_table[key]/=np.sum(np.array(value))\n",
    "modified = []\n",
    "for pair in na:\n",
    "    key = pair[0]\n",
    "    modified.append(response_table[key])\n",
    "sub_cat_encoded = pd.DataFrame(data=modified,columns=['clean_subcategories_0','clean_subcategories_1'],index=X_train['project_subject_subcategories'].index)"
   ]
  },
  {
   "cell_type": "code",
   "execution_count": 31,
   "metadata": {},
   "outputs": [],
   "source": [
    "sub_cat_test = X_test['project_subject_subcategories'].values\n",
    "sub_cat_test_encoded = []\n",
    "for i in range(len(sub_cat_test)):\n",
    "    key = sub_cat_test[i]\n",
    "    if key in response_table.keys():\n",
    "        sub_cat_test_encoded.append(response_table[key])\n",
    "    else:\n",
    "        sub_cat_test_encoded.append([0.5,0.5])\n",
    "sub_cat_test_encoded = pd.DataFrame(data=sub_cat_test_encoded,columns=['clean_subcategories_0','clean_subcategories_1'],index=X_test['project_subject_subcategories'].index)\n"
   ]
  },
  {
   "cell_type": "markdown",
   "metadata": {},
   "source": [
    "## Encoding numerical:price,previous_projects and sentiment scores"
   ]
  },
  {
   "cell_type": "code",
   "execution_count": 32,
   "metadata": {},
   "outputs": [
    {
     "name": "stdout",
     "output_type": "stream",
     "text": [
      "After vectorization:...\n",
      "(73167, 1) (73167,)\n",
      "(36038, 1) (36038,)\n",
      "====================================================================================================\n"
     ]
    }
   ],
   "source": [
    "#Encoding numercial features- price\n",
    "from sklearn.preprocessing import Normalizer\n",
    "normalizer = Normalizer()\n",
    "normalizer.fit(X_train['price'].values.reshape(1,-1))\n",
    "\n",
    "x_train_price_std = normalizer.transform(X_train['price'].values.reshape(1,-1))\n",
    "x_test_price_std = normalizer.transform(X_test['price'].values.reshape(1,-1))\n",
    "\n",
    "x_train_price_std = x_train_price_std.reshape(-1,1)\n",
    "x_test_price_std = x_test_price_std.reshape(-1,1)\n",
    "\n",
    "print('After vectorization:...')\n",
    "print(x_train_price_std.shape,y_train.shape)\n",
    "print(x_test_price_std.shape,y_test.shape)\n",
    "#feature_list.append('price')\n",
    "#feature_list2.append('price')\n",
    "print(\"=\"*100)\n",
    "#print(x_train_price_std)"
   ]
  },
  {
   "cell_type": "code",
   "execution_count": 33,
   "metadata": {},
   "outputs": [
    {
     "name": "stdout",
     "output_type": "stream",
     "text": [
      "After vectorization:...\n",
      "(73167, 1) (73167,)\n",
      "(36038, 1) (36038,)\n",
      "====================================================================================================\n"
     ]
    }
   ],
   "source": [
    "#Encoding  teacher_number_of_previously_posted_projects\n",
    "from sklearn.preprocessing import Normalizer\n",
    "normalizer = Normalizer()\n",
    "normalizer.fit(X_train['teacher_number_of_previously_posted_projects'].values.reshape(1,-1))\n",
    "\n",
    "x_train_nppp_std = normalizer.transform(X_train['teacher_number_of_previously_posted_projects'].values.reshape(1,-1))\n",
    "x_test_nppp_std = normalizer.transform(X_test['teacher_number_of_previously_posted_projects'].values.reshape(1,-1))\n",
    "\n",
    "x_train_nppp_std = x_train_nppp_std.reshape(-1,1)\n",
    "x_test_nppp_std = x_test_nppp_std.reshape(-1,1)\n",
    "\n",
    "print('After vectorization:...')\n",
    "print(x_train_nppp_std.shape,y_train.shape)\n",
    "print(x_test_nppp_std.shape,y_test.shape)\n",
    "#feature_list.append('teacher_number_of_previously_posted_projects')\n",
    "#feature_list2.append('teacher_number_of_previously_posted_projects')\n",
    "print(\"=\"*100)"
   ]
  },
  {
   "cell_type": "code",
   "execution_count": 34,
   "metadata": {},
   "outputs": [
    {
     "name": "stdout",
     "output_type": "stream",
     "text": [
      "After vectorization:...\n",
      "(73167, 1) (73167,)\n",
      "(36038, 1) (36038,)\n",
      "====================================================================================================\n"
     ]
    }
   ],
   "source": [
    "#Encoding  sentiment scores ['neg']\n",
    "from sklearn.preprocessing import Normalizer\n",
    "normalizer = Normalizer()\n",
    "normalizer.fit(ss_train['neg'].values.reshape(1,-1))\n",
    "\n",
    "x_train_neg_std = normalizer.transform(ss_train['neg'].values.reshape(1,-1))\n",
    "x_test_neg_std = normalizer.transform(ss_test['neg'].values.reshape(1,-1))\n",
    "\n",
    "x_train_neg_std = x_train_neg_std.reshape(-1,1)\n",
    "x_test_neg_std = x_test_neg_std.reshape(-1,1)\n",
    "\n",
    "print('After vectorization:...')\n",
    "print(x_train_neg_std.shape,y_train.shape)\n",
    "print(x_test_neg_std.shape,y_test.shape)\n",
    "#feature_list.append('teacher_number_of_previously_posted_projects')\n",
    "#feature_list2.append('teacher_number_of_previously_posted_projects')\n",
    "print(\"=\"*100)"
   ]
  },
  {
   "cell_type": "code",
   "execution_count": 35,
   "metadata": {},
   "outputs": [
    {
     "name": "stdout",
     "output_type": "stream",
     "text": [
      "After vectorization:...\n",
      "(73167, 1) (73167,)\n",
      "(36038, 1) (36038,)\n",
      "====================================================================================================\n"
     ]
    }
   ],
   "source": [
    "#Encoding  sentiment scores ['neu']\n",
    "from sklearn.preprocessing import Normalizer\n",
    "normalizer = Normalizer()\n",
    "normalizer.fit(ss_train['neu'].values.reshape(1,-1))\n",
    "\n",
    "x_train_neu_std = normalizer.transform(ss_train['neu'].values.reshape(1,-1))\n",
    "x_test_neu_std = normalizer.transform(ss_test['neu'].values.reshape(1,-1))\n",
    "\n",
    "x_train_neu_std = x_train_neu_std.reshape(-1,1)\n",
    "x_test_neu_std = x_test_neu_std.reshape(-1,1)\n",
    "\n",
    "print('After vectorization:...')\n",
    "print(x_train_neu_std.shape,y_train.shape)\n",
    "print(x_test_neu_std.shape,y_test.shape)\n",
    "#feature_list.append('teacher_number_of_previously_posted_projects')\n",
    "#feature_list2.append('teacher_number_of_previously_posted_projects')\n",
    "print(\"=\"*100)"
   ]
  },
  {
   "cell_type": "code",
   "execution_count": 36,
   "metadata": {},
   "outputs": [
    {
     "name": "stdout",
     "output_type": "stream",
     "text": [
      "After vectorization:...\n",
      "(73167, 1) (73167,)\n",
      "(36038, 1) (36038,)\n",
      "====================================================================================================\n"
     ]
    }
   ],
   "source": [
    "#Encoding  sentiment scores ['pos']\n",
    "from sklearn.preprocessing import Normalizer\n",
    "normalizer = Normalizer()\n",
    "normalizer.fit(ss_train['pos'].values.reshape(1,-1))\n",
    "\n",
    "x_train_pos_std = normalizer.transform(ss_train['pos'].values.reshape(1,-1))\n",
    "x_test_pos_std = normalizer.transform(ss_test['pos'].values.reshape(1,-1))\n",
    "\n",
    "x_train_pos_std = x_train_pos_std.reshape(-1,1)\n",
    "x_test_pos_std = x_test_pos_std.reshape(-1,1)\n",
    "\n",
    "print('After vectorization:...')\n",
    "print(x_train_pos_std.shape,y_train.shape)\n",
    "print(x_test_pos_std.shape,y_test.shape)\n",
    "#feature_list.append('teacher_number_of_previously_posted_projects')\n",
    "#feature_list2.append('teacher_number_of_previously_posted_projects')\n",
    "print(\"=\"*100)"
   ]
  },
  {
   "cell_type": "code",
   "execution_count": 37,
   "metadata": {},
   "outputs": [
    {
     "name": "stdout",
     "output_type": "stream",
     "text": [
      "After vectorization:...\n",
      "(73167, 1) (73167,)\n",
      "(36038, 1) (36038,)\n",
      "====================================================================================================\n"
     ]
    }
   ],
   "source": [
    "#Encoding  sentiment scores ['compound']\n",
    "\n",
    "from sklearn.preprocessing import Normalizer\n",
    "normalizer = Normalizer()\n",
    "normalizer.fit(ss_train['compound'].values.reshape(1,-1))\n",
    "\n",
    "x_train_comp_std = normalizer.transform(ss_train['compound'].values.reshape(1,-1))\n",
    "x_test_comp_std = normalizer.transform(ss_test['compound'].values.reshape(1,-1))\n",
    "\n",
    "x_train_comp_std = x_train_comp_std.reshape(-1,1)\n",
    "x_test_comp_std = x_test_comp_std.reshape(-1,1)\n",
    "\n",
    "print('After vectorization:...')\n",
    "print(x_train_comp_std.shape,y_train.shape)\n",
    "print(x_test_comp_std.shape,y_test.shape)\n",
    "#feature_list.append('teacher_number_of_previously_posted_projects')\n",
    "#feature_list2.append('teacher_number_of_previously_posted_projects')\n",
    "print(\"=\"*100)"
   ]
  },
  {
   "cell_type": "code",
   "execution_count": 38,
   "metadata": {},
   "outputs": [
    {
     "name": "stdout",
     "output_type": "stream",
     "text": [
      "Set 1:\n",
      "(73167, 16605) (73167,)\n",
      "(36038, 16605) (36038,)\n"
     ]
    }
   ],
   "source": [
    "#Concating all features..\n",
    "from scipy.sparse import hstack\n",
    "#Set 1: (response-encoded)categorical+numerical features + preprocessed_essay (TFIDF) +preprocessed_essay (TFIDF) + sentiment_scores\n",
    "X_tr1 = hstack((train_tfidf_essay,train_tfidf_title,state_encoded,prefix_encoded,grade_encoded,cat_encoded,sub_cat_encoded,x_train_price_std,x_train_nppp_std,x_train_neg_std,x_train_neu_std,x_train_pos_std,x_train_comp_std)).tocsr()\n",
    "X_te1 = hstack((test_tfidf_essay,test_tfidf_title,state_test_encoded,prefix_test_encoded,grade_test_encoded,cat_test_encoded,sub_cat_test_encoded,x_test_price_std,x_test_nppp_std,x_test_neg_std,x_test_neu_std,x_test_pos_std,x_test_comp_std)).tocsr()\n",
    "\n",
    "print(\"Set 1:\")\n",
    "print(X_tr1.shape, y_train.shape)\n",
    "print(X_te1.shape, y_test.shape)\n"
   ]
  },
  {
   "cell_type": "code",
   "execution_count": 39,
   "metadata": {},
   "outputs": [
    {
     "name": "stdout",
     "output_type": "stream",
     "text": [
      "Set 2 \n",
      "(73167, 612) (73167,)\n",
      "(36038, 612) (36038,)\n"
     ]
    }
   ],
   "source": [
    "\n",
    "#Set 2: (response-encoded)categorical+numerical features + preprocessed_essay (TFIDFW2v) +preprocessed_essay (TFIDFW2V) \n",
    "\n",
    "X_tr2 = hstack((tfidf_w2v_essay_vectors,tfidf_w2v_title_vectors,state_encoded,prefix_encoded,grade_encoded,cat_encoded,sub_cat_encoded,x_train_price_std,x_train_nppp_std)).tocsr()\n",
    "X_te2 = hstack((tfidf_test_w2v_essay_vectors,tfidf_test_w2v_title_vectors,state_test_encoded,prefix_test_encoded,grade_test_encoded,cat_test_encoded,sub_cat_test_encoded,x_test_price_std,x_test_nppp_std)).tocsr()\n",
    "\n",
    "print('Set 2 ')\n",
    "print(X_tr2.shape, y_train.shape)\n",
    "print(X_te2.shape, y_test.shape)"
   ]
  },
  {
   "cell_type": "markdown",
   "metadata": {
    "colab_type": "text",
    "id": "I5wDFj17sc3-"
   },
   "source": [
    "<h2>1.5 Appling Models on different kind of featurization as mentioned in the instructions</h2>"
   ]
  },
  {
   "cell_type": "markdown",
   "metadata": {},
   "source": [
    "# Hyperparameter Tuning (n_estimators & max_depth)"
   ]
  },
  {
   "cell_type": "markdown",
   "metadata": {
    "colab_type": "text",
    "id": "O5tWox1jsc3_"
   },
   "source": [
    "<br>Apply GBDT on different kind of featurization as mentioned in the instructions\n",
    "<br> For Every model that you work on make sure you do the step 2 and step 3 of instrucations"
   ]
  },
  {
   "cell_type": "code",
   "execution_count": 40,
   "metadata": {},
   "outputs": [],
   "source": [
    "import warnings\n",
    "warnings.filterwarnings(\"ignore\")"
   ]
  },
  {
   "cell_type": "code",
   "execution_count": 41,
   "metadata": {},
   "outputs": [],
   "source": [
    "import xgboost as xgb"
   ]
  },
  {
   "cell_type": "code",
   "execution_count": 42,
   "metadata": {},
   "outputs": [
    {
     "name": "stdout",
     "output_type": "stream",
     "text": [
      "Estimate: 0.178\n"
     ]
    }
   ],
   "source": [
    "# Reference https://machinelearningmastery.com/xgboost-for-imbalanced-classification/\n",
    "#To balance the class weight, sample_pos_weight = #-ve pts/#+ve pts\n",
    "from collections import Counter \n",
    "counter = Counter(y_train)\n",
    "estimate = counter[0] / counter[1]\n",
    "print('Estimate: %.3f' % estimate)"
   ]
  },
  {
   "cell_type": "code",
   "execution_count": 43,
   "metadata": {
    "colab": {},
    "colab_type": "code",
    "id": "ARWulYUwsc4B"
   },
   "outputs": [
    {
     "name": "stdout",
     "output_type": "stream",
     "text": [
      "Fitting 5 folds for each of 10 candidates, totalling 50 fits\n"
     ]
    },
    {
     "name": "stderr",
     "output_type": "stream",
     "text": [
      "[Parallel(n_jobs=-1)]: Using backend LokyBackend with 4 concurrent workers.\n",
      "[Parallel(n_jobs=-1)]: Done  24 tasks      | elapsed: 20.7min\n",
      "[Parallel(n_jobs=-1)]: Done  50 out of  50 | elapsed: 95.3min finished\n"
     ]
    },
    {
     "name": "stdout",
     "output_type": "stream",
     "text": [
      "[00:52:39] WARNING: C:\\Users\\Administrator\\workspace\\xgboost-win64_release_1.2.0\\src\\learner.cc:516: \n",
      "Parameters: { verbose } might not be used.\n",
      "\n",
      "  This may not be accurate due to some parameters are only used in language bindings but\n",
      "  passed down to XGBoost core.  Or some parameters are not used but slip through this\n",
      "  verification. Please open an issue if you find above cases.\n",
      "\n",
      "\n"
     ]
    }
   ],
   "source": [
    "from sklearn.model_selection import GridSearchCV\n",
    "from scipy.stats import randint as sp_randint\n",
    "from sklearn.model_selection import RandomizedSearchCV\n",
    "from sklearn.metrics import roc_auc_score\n",
    "from sklearn.tree import DecisionTreeClassifier\n",
    "from sklearn.ensemble import GradientBoostingClassifier\n",
    "#Hyperparameter tuning for feature set1\n",
    "params ={'max_depth':[1, 5, 10, 50],'n_estimators':[1, 10, 50, 100]}\n",
    "model = xgb.XGBClassifier(scale_pos_weight=estimate,verbose=1) # Class-weight parameter\n",
    "clf = RandomizedSearchCV(model,params,cv=5,scoring='roc_auc',return_train_score=True,n_jobs=-1,verbose=3)\n",
    "result=clf.fit(X_tr1,y_train)\n",
    "\n",
    "results = pd.DataFrame.from_dict(clf.cv_results_)\n"
   ]
  },
  {
   "cell_type": "code",
   "execution_count": 46,
   "metadata": {},
   "outputs": [
    {
     "name": "stdout",
     "output_type": "stream",
     "text": [
      "Fitting 5 folds for each of 10 candidates, totalling 50 fits\n"
     ]
    },
    {
     "name": "stderr",
     "output_type": "stream",
     "text": [
      "[Parallel(n_jobs=-1)]: Using backend LokyBackend with 4 concurrent workers.\n",
      "[Parallel(n_jobs=-1)]: Done  24 tasks      | elapsed: 168.6min\n",
      "[Parallel(n_jobs=-1)]: Done  50 out of  50 | elapsed: 316.7min finished\n"
     ]
    },
    {
     "name": "stdout",
     "output_type": "stream",
     "text": [
      "[09:02:07] WARNING: C:\\Users\\Administrator\\workspace\\xgboost-win64_release_1.2.0\\src\\learner.cc:516: \n",
      "Parameters: { verbose } might not be used.\n",
      "\n",
      "  This may not be accurate due to some parameters are only used in language bindings but\n",
      "  passed down to XGBoost core.  Or some parameters are not used but slip through this\n",
      "  verification. Please open an issue if you find above cases.\n",
      "\n",
      "\n"
     ]
    }
   ],
   "source": [
    "from sklearn.model_selection import GridSearchCV\n",
    "from scipy.stats import randint as sp_randint\n",
    "from sklearn.model_selection import RandomizedSearchCV\n",
    "from sklearn.metrics import roc_auc_score\n",
    "from sklearn.tree import DecisionTreeClassifier\n",
    "from sklearn.ensemble import GradientBoostingClassifier\n",
    "#Hyperparameter tuning for feature set1\n",
    "params ={'max_depth':[1, 5, 10, 50],'n_estimators':[1, 10, 50, 100]}\n",
    "model = xgb.XGBClassifier(scale_pos_weight=estimate,verbose=1)\n",
    "clf = RandomizedSearchCV(model,params,cv=5,scoring='roc_auc',return_train_score=True,n_jobs=-1,verbose=3)\n",
    "result2=clf.fit(X_tr2,y_train)\n",
    "\n",
    "results2 = pd.DataFrame.from_dict(clf.cv_results_)\n"
   ]
  },
  {
   "cell_type": "markdown",
   "metadata": {},
   "source": [
    "# Representation of results: Feature Set 1"
   ]
  },
  {
   "cell_type": "code",
   "execution_count": 51,
   "metadata": {},
   "outputs": [
    {
     "data": {
      "text/plain": [
       "Text(0.5,1,'Corelation Heatmap of Train')"
      ]
     },
     "execution_count": 51,
     "metadata": {},
     "output_type": "execute_result"
    },
    {
     "data": {
      "image/png": "[encoded data removed]",
      "text/plain": [
       "<Figure size 1152x432 with 2 Axes>"
      ]
     },
     "metadata": {},
     "output_type": "display_data"
    }
   ],
   "source": [
    "import matplotlib.pyplot as plt\n",
    "import seaborn as sns\n",
    "HeatTrain = results.copy()\n",
    "HeatTrain = HeatTrain.pivot_table(index='param_n_estimators',columns='param_max_depth',values='mean_train_score')\n",
    "plt.figure(figsize=(16,6))\n",
    "hmap = sns.heatmap(HeatTrain,annot=True)\n",
    "hmap.set_title('Corelation Heatmap of Train', fontdict={'fontsize':12},pad=12)"
   ]
  },
  {
   "cell_type": "code",
   "execution_count": 52,
   "metadata": {},
   "outputs": [
    {
     "data": {
      "text/plain": [
       "Text(0.5,1,'Corelation Heatmap of Cross-Validation')"
      ]
     },
     "execution_count": 52,
     "metadata": {},
     "output_type": "execute_result"
    },
    {
     "data": {
      "image/png": "[encoded data removed]",
      "text/plain": [
       "<Figure size 1152x432 with 2 Axes>"
      ]
     },
     "metadata": {},
     "output_type": "display_data"
    }
   ],
   "source": [
    "HeatTest = results.copy()\n",
    "HeatTest = HeatTest.pivot_table(index='param_n_estimators',columns='param_max_depth',values='mean_test_score')\n",
    "plt.figure(figsize=(16,6))\n",
    "hmap = sns.heatmap(HeatTest,annot=True)\n",
    "hmap.set_title('Corelation Heatmap of Cross-Validation', fontdict={'fontsize':12},pad=12)"
   ]
  },
  {
   "cell_type": "code",
   "execution_count": 53,
   "metadata": {},
   "outputs": [],
   "source": [
    "\n",
    "def batch_predict(clf, data):\n",
    "    # roc_auc_score(y_true, y_score) the 2nd parameter should be probability estimates of the positive class\n",
    "    # not the predicted outputs\n",
    "\n",
    "    y_data_pred = []\n",
    "    tr_loop = data.shape[0] - data.shape[0]%1000\n",
    "    # consider you X_tr shape is 49041, then your tr_loop will be 49041 - 49041%1000 = 49000\n",
    "    # in this for loop we will iterate unti the last 1000 multiplier\n",
    "    for i in range(0, tr_loop, 1000):\n",
    "        y_data_pred.extend(clf.predict_proba(data[i:i+1000])[:,1])\n",
    "    # we will be predicting for the last data points\n",
    "    if data.shape[0]%1000 !=0:\n",
    "        y_data_pred.extend(clf.predict_proba(data[tr_loop:])[:,1])\n",
    "    \n",
    "    return y_data_pred\n",
    "def find_best_threshold(threshould, fpr, tpr):\n",
    "    t = threshould[np.argmax(tpr*(1-fpr))]\n",
    "    # (tpr*(1-fpr)) will be maximum if your fpr is very low and tpr is very high\n",
    "    print(\"the maximum value of tpr*(1-fpr)\", max(tpr*(1-fpr)), \"for threshold\", np.round(t,3))\n",
    "    return t\n",
    "\n",
    "def predict_with_best_t(proba, threshould):\n",
    "    predictions = []\n",
    "    for i in proba:\n",
    "        if i>=threshould:\n",
    "            predictions.append(1)\n",
    "        else:\n",
    "            predictions.append(0)\n",
    "    return predictions"
   ]
  },
  {
   "cell_type": "code",
   "execution_count": 54,
   "metadata": {},
   "outputs": [
    {
     "data": {
      "text/plain": [
       "{'n_estimators': 100, 'max_depth': 5}"
      ]
     },
     "execution_count": 54,
     "metadata": {},
     "output_type": "execute_result"
    }
   ],
   "source": [
    "result.best_params_"
   ]
  },
  {
   "cell_type": "code",
   "execution_count": 55,
   "metadata": {},
   "outputs": [
    {
     "data": {
      "image/png": "[encoded data removed]",
      "text/plain": [
       "<Figure size 432x288 with 1 Axes>"
      ]
     },
     "metadata": {},
     "output_type": "display_data"
    }
   ],
   "source": [
    "best_n_estimators = 100\n",
    "best_max_depth = 5\n",
    "#After finding the best hyperparameter, we use that alpha to train the model and test its performacnce using test AUC score\n",
    "\n",
    "from sklearn.metrics import roc_curve, auc\n",
    "model = xgb.XGBClassifier(max_depth=best_max_depth,n_estimators=best_n_estimators,scale_pos_weight=estimate)\n",
    "model.fit(X_tr1,y_train)\n",
    "\n",
    "y_train_pred = batch_predict(model,X_tr1)\n",
    "y_test_pred = batch_predict(model,X_te1)\n",
    "\n",
    "train_fpr, train_tpr, tr_thresholds = roc_curve(y_train, y_train_pred) #roc_curve(true class labels,probs of class 1)\n",
    "test_fpr, test_tpr, te_thresholds = roc_curve(y_test, y_test_pred)\n",
    "\n",
    "plt.plot(train_fpr, train_tpr, label=\"train AUC =\"+str(auc(train_fpr, train_tpr)))\n",
    "plt.plot(test_fpr, test_tpr, label=\"test AUC =\"+str(auc(test_fpr, test_tpr)))\n",
    "plt.legend()\n",
    "plt.xlabel(\"FPR\")\n",
    "plt.ylabel(\"TPR\")\n",
    "plt.title(\"AUC-ROC Curve for feature set1\")\n",
    "plt.grid()\n",
    "plt.show()"
   ]
  },
  {
   "cell_type": "code",
   "execution_count": 56,
   "metadata": {},
   "outputs": [
    {
     "name": "stdout",
     "output_type": "stream",
     "text": [
      "====================================================================================================\n",
      "the maximum value of tpr*(1-fpr) 0.6343895136909512 for threshold 0.514\n",
      "Test confusion matrix\n"
     ]
    },
    {
     "data": {
      "image/png": "[encoded data removed]",
      "text/plain": [
       "<Figure size 432x288 with 2 Axes>"
      ]
     },
     "metadata": {},
     "output_type": "display_data"
    }
   ],
   "source": [
    "#Printing the confusion matrix with heatmap enabled -row = actual and column = predicted samples\n",
    "# 0=negative and 1=positive\n",
    "print(\"=\"*100)\n",
    "from sklearn.metrics import confusion_matrix\n",
    "best_t = find_best_threshold(tr_thresholds, train_fpr, train_tpr)\n",
    "print(\"Test confusion matrix\")\n",
    "cm = confusion_matrix(y_test, predict_with_best_t(y_test_pred, best_t))\n",
    "\n",
    "\n",
    "import seaborn as sns\n",
    "group_counts = ['{0:0.0f}'.format(value) for value in\n",
    "                cm.flatten()]\n",
    "\n",
    "group_names = ['True Neg','False Pos','False Neg','True Pos']\n",
    "labels = [f'{v1}\\n{v2}' for v1, v2 in\n",
    "          zip(group_names,group_counts)]\n",
    "labels = np.asarray(labels).reshape(2,2)\n",
    "sns.heatmap(cm, annot=labels,fmt=\"\",cmap='Blues');"
   ]
  },
  {
   "cell_type": "markdown",
   "metadata": {},
   "source": [
    "# Representation of results (Feature Set 2)"
   ]
  },
  {
   "cell_type": "code",
   "execution_count": 57,
   "metadata": {},
   "outputs": [
    {
     "data": {
      "text/plain": [
       "Text(0.5,1,'Corelation Heatmap of Train')"
      ]
     },
     "execution_count": 57,
     "metadata": {},
     "output_type": "execute_result"
    },
    {
     "data": {
      "image/png": "[encoded data removed]",
      "text/plain": [
       "<Figure size 1152x432 with 2 Axes>"
      ]
     },
     "metadata": {},
     "output_type": "display_data"
    }
   ],
   "source": [
    "import matplotlib.pyplot as plt\n",
    "import seaborn as sns\n",
    "HeatTrain = results2.copy()\n",
    "HeatTrain = HeatTrain.pivot_table(index='param_n_estimators',columns='param_max_depth',values='mean_train_score')\n",
    "plt.figure(figsize=(16,6))\n",
    "hmap = sns.heatmap(HeatTrain,annot=True)\n",
    "hmap.set_title('Corelation Heatmap of Train', fontdict={'fontsize':12},pad=12)"
   ]
  },
  {
   "cell_type": "code",
   "execution_count": 58,
   "metadata": {},
   "outputs": [
    {
     "data": {
      "text/plain": [
       "Text(0.5,1,'Corelation Heatmap of Cross-Validation')"
      ]
     },
     "execution_count": 58,
     "metadata": {},
     "output_type": "execute_result"
    },
    {
     "data": {
      "image/png": "[encoded data removed]",
      "text/plain": [
       "<Figure size 1152x432 with 2 Axes>"
      ]
     },
     "metadata": {},
     "output_type": "display_data"
    }
   ],
   "source": [
    "HeatTest = results2.copy()\n",
    "HeatTest = HeatTest.pivot_table(index='param_n_estimators',columns='param_max_depth',values='mean_test_score')\n",
    "plt.figure(figsize=(16,6))\n",
    "hmap = sns.heatmap(HeatTest,annot=True)\n",
    "hmap.set_title('Corelation Heatmap of Cross-Validation', fontdict={'fontsize':12},pad=12)"
   ]
  },
  {
   "cell_type": "code",
   "execution_count": 59,
   "metadata": {},
   "outputs": [
    {
     "data": {
      "text/plain": [
       "{'n_estimators': 100, 'max_depth': 1}"
      ]
     },
     "execution_count": 59,
     "metadata": {},
     "output_type": "execute_result"
    }
   ],
   "source": [
    "result2.best_params_"
   ]
  },
  {
   "cell_type": "code",
   "execution_count": 64,
   "metadata": {},
   "outputs": [
    {
     "data": {
      "image/png": "[encoded data removed]",
      "text/plain": [
       "<Figure size 432x288 with 1 Axes>"
      ]
     },
     "metadata": {},
     "output_type": "display_data"
    }
   ],
   "source": [
    "best_n_estimators = 100\n",
    "best_max_depth = 1\n",
    "#After finding the best hyperparameters, we use them to train the model and test its performacnce using test AUC score\n",
    "\n",
    "from sklearn.metrics import roc_curve, auc\n",
    "model = xgb.XGBClassifier(max_depth=best_max_depth,n_estimators=best_n_estimators,scale_pos_weight=estimate)\n",
    "model.fit(X_tr2,y_train)\n",
    "\n",
    "y_train_pred = batch_predict(model,X_tr2)\n",
    "y_test_pred = batch_predict(model,X_te2)\n",
    "\n",
    "train_fpr, train_tpr, tr_thresholds = roc_curve(y_train, y_train_pred) #roc_curve(true class labels,probs of class 1)\n",
    "test_fpr, test_tpr, te_thresholds = roc_curve(y_test, y_test_pred)\n",
    "\n",
    "plt.plot(train_fpr, train_tpr, label=\"train AUC =\"+str(auc(train_fpr, train_tpr)))\n",
    "plt.plot(test_fpr, test_tpr, label=\"test AUC =\"+str(auc(test_fpr, test_tpr)))\n",
    "plt.legend()\n",
    "plt.xlabel(\"FPR\")\n",
    "plt.ylabel(\"TPR\")\n",
    "plt.title(\"AUC-ROC Curve for feature set 2\")\n",
    "plt.grid()\n",
    "plt.show()"
   ]
  },
  {
   "cell_type": "code",
   "execution_count": 62,
   "metadata": {},
   "outputs": [
    {
     "name": "stdout",
     "output_type": "stream",
     "text": [
      "====================================================================================================\n",
      "the maximum value of tpr*(1-fpr) 0.443679876598628 for threshold 0.493\n",
      "Test confusion matrix\n"
     ]
    },
    {
     "data": {
      "image/png": "[encoded data removed]",
      "text/plain": [
       "<Figure size 432x288 with 2 Axes>"
      ]
     },
     "metadata": {},
     "output_type": "display_data"
    }
   ],
   "source": [
    "#Printing the confusion matrix with heatmap enabled -row = actual and column = predicted samples\n",
    "# 0=negative and 1=positive\n",
    "print(\"=\"*100)\n",
    "from sklearn.metrics import confusion_matrix\n",
    "best_t = find_best_threshold(tr_thresholds, train_fpr, train_tpr)\n",
    "print(\"Test confusion matrix\")\n",
    "cm = confusion_matrix(y_test, predict_with_best_t(y_test_pred, best_t))\n",
    "\n",
    "\n",
    "import seaborn as sns\n",
    "group_counts = ['{0:0.0f}'.format(value) for value in\n",
    "                cm.flatten()]\n",
    "\n",
    "group_names = ['True Neg','False Pos','False Neg','True Pos']\n",
    "labels = [f'{v1}\\n{v2}' for v1, v2 in\n",
    "          zip(group_names,group_counts)]\n",
    "labels = np.asarray(labels).reshape(2,2)\n",
    "sns.heatmap(cm, annot=labels,fmt=\"\",cmap='Blues');"
   ]
  },
  {
   "cell_type": "markdown",
   "metadata": {
    "colab_type": "text",
    "id": "YhFN-lDWsc4G"
   },
   "source": [
    "<h1>3. Summary</h1>\n",
    "\n",
    "<br> as mentioned in the step 4 of instructions"
   ]
  },
  {
   "cell_type": "code",
   "execution_count": 63,
   "metadata": {},
   "outputs": [
    {
     "name": "stdout",
     "output_type": "stream",
     "text": [
      "Summary of Task:\n",
      "+--------------------------+----------------+---------------------------+------------------------------+-------+\n",
      "|        Vectorizer        |     Model      | Hyper parameter Max_Depth | Hyper parameter n_estimators |  AUC  |\n",
      "+--------------------------+----------------+---------------------------+------------------------------+-------+\n",
      "| TFIDF + Sentiment Scores | XGB Classifier |             5             |             100              | 71.15 |\n",
      "|        TFIDF W2V         | XGB Classifier |             1             |             100              | 69.56 |\n",
      "+--------------------------+----------------+---------------------------+------------------------------+-------+\n"
     ]
    }
   ],
   "source": [
    "from prettytable import PrettyTable\n",
    "x = PrettyTable()\n",
    "\n",
    "x.field_names = [\"Vectorizer\", \"Model\", \"Hyper parameter Max_Depth\",\"Hyper parameter n_estimators\", \"AUC\"]\n",
    "x.add_row([\"TFIDF + Sentiment Scores\",\"XGB Classifier\",\"5\",'100',\"71.15\"])\n",
    "x.add_row(['TFIDF W2V','XGB Classifier',\"1\",\"100\",\"69.56\"])\n",
    "print('Summary of Task:')\n",
    "print(x)"
   ]
  }
 ],
 "metadata": {
  "colab": {
   "collapsed_sections": [],
   "name": "11_Assignment_GBDT_Instructions.ipynb",
   "provenance": [],
   "version": "0.3.2"
  },
  "kernelspec": {
   "display_name": "Python 3",
   "language": "python",
   "name": "python3"
  },
  "language_info": {
   "codemirror_mode": {
    "name": "ipython",
    "version": 3
   },
   "file_extension": ".py",
   "mimetype": "text/x-python",
   "name": "python",
   "nbconvert_exporter": "python",
   "pygments_lexer": "ipython3",
   "version": "3.6.5"
  }
 },
 "nbformat": 4,
 "nbformat_minor": 1
}
